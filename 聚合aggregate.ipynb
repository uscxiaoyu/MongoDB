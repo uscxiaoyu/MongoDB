{
 "cells": [
  {
   "cell_type": "code",
   "execution_count": 1,
   "metadata": {},
   "outputs": [],
   "source": [
    "import datetime\n",
    "import time\n",
    "from bson import ObjectId\n",
    "from pymongo import MongoClient"
   ]
  },
  {
   "cell_type": "code",
   "execution_count": 2,
   "metadata": {},
   "outputs": [
    {
     "data": {
      "text/plain": [
       "True"
      ]
     },
     "execution_count": 2,
     "metadata": {},
     "output_type": "execute_result"
    }
   ],
   "source": [
    "client = MongoClient()\n",
    "db = client['moniter_crowdfunding']\n",
    "db.authenticate(name='craw', password=\"craw\", mechanism=\"SCRAM-SHA-1\")"
   ]
  },
  {
   "cell_type": "code",
   "execution_count": 8,
   "metadata": {},
   "outputs": [
    {
     "data": {
      "text/plain": [
       "['sucess_projects', 'front_page', 'projects', 'founders', 'failure_projects']"
      ]
     },
     "execution_count": 8,
     "metadata": {},
     "output_type": "execute_result"
    }
   ],
   "source": [
    "db.list_collection_names()"
   ]
  },
  {
   "cell_type": "code",
   "execution_count": null,
   "metadata": {},
   "outputs": [],
   "source": []
  },
  {
   "cell_type": "code",
   "execution_count": 21,
   "metadata": {},
   "outputs": [],
   "source": [
    "s_proj = db.sucess_projects\n",
    "f_proj = db.failure_projects\n",
    "frontPage = db.front_page"
   ]
  },
  {
   "cell_type": "code",
   "execution_count": 4,
   "metadata": {},
   "outputs": [
    {
     "data": {
      "text/plain": [
       "2908"
      ]
     },
     "execution_count": 4,
     "metadata": {},
     "output_type": "execute_result"
    }
   ],
   "source": [
    "s_proj.count_documents({})"
   ]
  },
  {
   "cell_type": "code",
   "execution_count": 19,
   "metadata": {},
   "outputs": [
    {
     "data": {
      "text/plain": [
       "dict_keys(['_id', '各档动态信息', '众筹期限', '公司地址', '项目动态信息', '状态变换时间1-2', '各档基础信息', '爬取次数', '项目名称', '所属类别', '状态', '公司电话', '状态变换时间0-1', '目标金额', '发起人链接', '公司工作时间', '公司名称', '发起人名称', '评论', '状态变换时间2-3', '状态变换时间3-4'])"
      ]
     },
     "execution_count": 19,
     "metadata": {},
     "output_type": "execute_result"
    }
   ],
   "source": [
    "s_proj.find_one({'状态变换时间3-4': {}}).keys()"
   ]
  },
  {
   "cell_type": "code",
   "execution_count": 9,
   "metadata": {},
   "outputs": [
    {
     "data": {
      "text/plain": [
       "{'_id': '100010',\n",
       " '项目动态信息': [{'创建时间': datetime.datetime(2018, 4, 25, 10, 32, 44),\n",
       "   '点赞数': 19,\n",
       "   '完成百分比': 102.0,\n",
       "   '支持者数': 137,\n",
       "   '爬取时间': datetime.datetime(2018, 6, 14, 6, 1, 29, 273000),\n",
       "   '更新时间': datetime.datetime(2018, 6, 13, 14, 1, 40),\n",
       "   '筹集金额': 50971,\n",
       "   '关注数': 172}],\n",
       " '所属类别': '原创设计'}"
      ]
     },
     "execution_count": 9,
     "metadata": {},
     "output_type": "execute_result"
    }
   ],
   "source": [
    "s_proj.find_one({}, projection={'所属类别':1, \"项目动态信息\": {\"$slice\": -1}})"
   ]
  },
  {
   "cell_type": "markdown",
   "metadata": {},
   "source": [
    "- 发起人的成功/失败数量"
   ]
  },
  {
   "cell_type": "code",
   "execution_count": 16,
   "metadata": {
    "collapsed": true,
    "jupyter": {
     "outputs_hidden": true
    }
   },
   "outputs": [
    {
     "data": {
      "text/plain": [
       "[{'_id': '广诚行', '数量': 32},\n",
       " {'_id': '百年利永紫砂', '数量': 19},\n",
       " {'_id': '力莱美旗舰店pds', '数量': 19},\n",
       " {'_id': 'jdzyzc', '数量': 18},\n",
       " {'_id': '广诚行_溯芳斋', '数量': 18},\n",
       " {'_id': '松鼠视觉传媒', '数量': 18},\n",
       " {'_id': '广诚行-溯芳斋', '数量': 18},\n",
       " {'_id': '匠心文玩', '数量': 17},\n",
       " {'_id': '容水堂', '数量': 16},\n",
       " {'_id': '奥费斯科技', '数量': 15},\n",
       " {'_id': '逸翔出众', '数量': 14},\n",
       " {'_id': '颢宇科技', '数量': 14},\n",
       " {'_id': '静水流深808', '数量': 12},\n",
       " {'_id': '味BACK', '数量': 12},\n",
       " {'_id': '博古藏今', '数量': 11},\n",
       " {'_id': 'wodaojiaju', '数量': 11},\n",
       " {'_id': '北京世纪千里马', '数量': 11},\n",
       " {'_id': '意宝文玩收藏', '数量': 10},\n",
       " {'_id': '松鼠传媒精选', '数量': 10},\n",
       " {'_id': '茶管家_', '数量': 10},\n",
       " {'_id': '昔物山房', '数量': 10},\n",
       " {'_id': '玩觅旗舰店', '数量': 10}]"
      ]
     },
     "execution_count": 16,
     "metadata": {},
     "output_type": "execute_result"
    }
   ],
   "source": [
    "list(s_proj.aggregate([{'$group': {\"_id\": \"$发起人名称\", \"数量\": {'$sum':1}}}, {'$sort': {\"数量\": -1}}, {'$match': {\"数量\": {'$gte': 10}}}]))"
   ]
  },
  {
   "cell_type": "code",
   "execution_count": 28,
   "metadata": {
    "collapsed": true,
    "jupyter": {
     "outputs_hidden": true
    }
   },
   "outputs": [
    {
     "data": {
      "text/plain": [
       "[{'_id': None, '数量': 671},\n",
       " {'_id': 'jdzyzc', '数量': 43},\n",
       " {'_id': '九合兴国', '数量': 8},\n",
       " {'_id': '武安市懂食食品经销', '数量': 7},\n",
       " {'_id': 'UKANLIFE', '数量': 6},\n",
       " {'_id': '匠心文玩', '数量': 6},\n",
       " {'_id': '极致盛放001', '数量': 5},\n",
       " {'_id': '普洱英智科技有限公司', '数量': 4},\n",
       " {'_id': '静水流深666888', '数量': 4},\n",
       " {'_id': '醴陵御品坊瓷', '数量': 3},\n",
       " {'_id': '湖南柏优农业', '数量': 3},\n",
       " {'_id': '容水堂', '数量': 3},\n",
       " {'_id': '藏尽天下', '数量': 3},\n",
       " {'_id': '畲家银器', '数量': 3},\n",
       " {'_id': '赐扬商贸', '数量': 3},\n",
       " {'_id': '阿克苏扶贫馆', '数量': 3},\n",
       " {'_id': 'zj123456314', '数量': 2},\n",
       " {'_id': 'BERG旗舰店', '数量': 2},\n",
       " {'_id': '无三科技', '数量': 2},\n",
       " {'_id': '雅麒珠宝', '数量': 2},\n",
       " {'_id': 'zyx_588', '数量': 2},\n",
       " {'_id': 'monkeymilk', '数量': 2},\n",
       " {'_id': 'MANDEBO官方旗舰店', '数量': 2},\n",
       " {'_id': '星火选品', '数量': 2},\n",
       " {'_id': '天成科技01', '数量': 2},\n",
       " {'_id': 'a181*****827', '数量': 2},\n",
       " {'_id': '乡村麦生态农业', '数量': 2},\n",
       " {'_id': '苍古手作', '数量': 2},\n",
       " {'_id': '颢宇科技', '数量': 2},\n",
       " {'_id': '赛乐科技开发有限公司', '数量': 2},\n",
       " {'_id': 'TEGIC2359', '数量': 2},\n",
       " {'_id': 'MGI201809', '数量': 2},\n",
       " {'_id': '朝天椒科技', '数量': 2},\n",
       " {'_id': '泺通食品店', '数量': 2},\n",
       " {'_id': '一桐电子商务有限公司', '数量': 2},\n",
       " {'_id': '裘宴息2015', '数量': 2},\n",
       " {'_id': '时尚我最型', '数量': 2},\n",
       " {'_id': '半甚服饰', '数量': 2},\n",
       " {'_id': '沃讯旗舰店', '数量': 2},\n",
       " {'_id': '铭汝堂店', '数量': 2},\n",
       " {'_id': '古来时', '数量': 2},\n",
       " {'_id': '锦唐窑官方旗舰店', '数量': 2},\n",
       " {'_id': 'amyas2017', '数量': 2},\n",
       " {'_id': '博古藏今', '数量': 2},\n",
       " {'_id': '傲基科技', '数量': 2},\n",
       " {'_id': '普仕顿汽车纳米镀晶', '数量': 2},\n",
       " {'_id': 'hhm2017', '数量': 2},\n",
       " {'_id': 'jd_186163qipg', '数量': 2},\n",
       " {'_id': 'jd_158015ddt', '数量': 2},\n",
       " {'_id': '壶天福地晓雅', '数量': 2}]"
      ]
     },
     "execution_count": 28,
     "metadata": {},
     "output_type": "execute_result"
    }
   ],
   "source": [
    "list(f_proj.aggregate([{'$group': {\"_id\": \"$发起人名称\", \"数量\": {'$sum':1}}}, {'$sort': {\"数量\": -1}}, {'$match': {\"数量\": {'$gte': 2}}}]))"
   ]
  },
  {
   "cell_type": "markdown",
   "metadata": {},
   "source": [
    "- 各类别成功/失败数量"
   ]
  },
  {
   "cell_type": "code",
   "execution_count": 12,
   "metadata": {
    "collapsed": true,
    "jupyter": {
     "outputs_hidden": true
    }
   },
   "outputs": [
    {
     "data": {
      "text/plain": [
       "[{'_id': '原创设计', '数量': 434},\n",
       " {'_id': '食品', '数量': 401},\n",
       " {'_id': '公益', '数量': 363},\n",
       " {'_id': '文化传承', '数量': 324},\n",
       " {'_id': '智能家居', '数量': 190},\n",
       " {'_id': '数码周边', '数量': 156},\n",
       " {'_id': '健康医疗', '数量': 121},\n",
       " {'_id': '车品', '数量': 118},\n",
       " {'_id': '健康生活', '数量': 109},\n",
       " {'_id': '设计家居', '数量': 98},\n",
       " {'_id': '可穿戴', '数量': 93},\n",
       " {'_id': '品质家居', '数量': 66},\n",
       " {'_id': '个人护理', '数量': 61},\n",
       " {'_id': '时尚科技', '数量': 57},\n",
       " {'_id': '专属定制', '数量': 51},\n",
       " {'_id': '体育', '数量': 45},\n",
       " {'_id': '手机周边', '数量': 29},\n",
       " {'_id': '母婴', '数量': 25},\n",
       " {'_id': '其它', '数量': 23},\n",
       " {'_id': '健身装备', '数量': 22},\n",
       " {'_id': '生活电器', '数量': 22},\n",
       " {'_id': '情趣用品', '数量': 18},\n",
       " {'_id': '图书', '数量': 17},\n",
       " {'_id': '空气净化', '数量': 14},\n",
       " {'_id': '游戏', '数量': 10},\n",
       " {'_id': '手机', '数量': 8},\n",
       " {'_id': '水健康', '数量': 8},\n",
       " {'_id': '冰洗卫浴', '数量': 5},\n",
       " {'_id': '检测设备', '数量': 4},\n",
       " {'_id': '旅游', '数量': 4},\n",
       " {'_id': '大家电', '数量': 2},\n",
       " {'_id': '手环', '数量': 2},\n",
       " {'_id': '音乐', '数量': 2},\n",
       " {'_id': '安防', '数量': 2},\n",
       " {'_id': '美妆', '数量': 1},\n",
       " {'_id': '扶贫', '数量': 1},\n",
       " {'_id': '活动', '数量': 1},\n",
       " {'_id': '电脑', '数量': 1}]"
      ]
     },
     "execution_count": 12,
     "metadata": {},
     "output_type": "execute_result"
    }
   ],
   "source": [
    "list(s_proj.aggregate([{'$group': {\"_id\": \"$所属类别\", \"数量\": {'$sum':1}}}, {'$sort': {\"数量\": -1}}]))"
   ]
  },
  {
   "cell_type": "code",
   "execution_count": 29,
   "metadata": {
    "collapsed": true,
    "jupyter": {
     "outputs_hidden": true
    }
   },
   "outputs": [
    {
     "data": {
      "text/plain": [
       "[{'_id': None, '数量': 671},\n",
       " {'_id': '食品', '数量': 174},\n",
       " {'_id': '公益', '数量': 149},\n",
       " {'_id': '设计家居', '数量': 85},\n",
       " {'_id': '文化传承', '数量': 78},\n",
       " {'_id': '原创设计', '数量': 69},\n",
       " {'_id': '健康生活', '数量': 62},\n",
       " {'_id': '专属定制', '数量': 62},\n",
       " {'_id': '健康医疗', '数量': 58},\n",
       " {'_id': '智能家居', '数量': 55},\n",
       " {'_id': '时尚科技', '数量': 47},\n",
       " {'_id': '数码周边', '数量': 38},\n",
       " {'_id': '可穿戴', '数量': 34},\n",
       " {'_id': '品质家居', '数量': 32},\n",
       " {'_id': '个人护理', '数量': 28},\n",
       " {'_id': '车品', '数量': 28},\n",
       " {'_id': '母婴', '数量': 25},\n",
       " {'_id': '其它', '数量': 24},\n",
       " {'_id': '手机周边', '数量': 21},\n",
       " {'_id': '生活电器', '数量': 12},\n",
       " {'_id': '健身装备', '数量': 8},\n",
       " {'_id': '美妆', '数量': 5},\n",
       " {'_id': '水健康', '数量': 5},\n",
       " {'_id': '空气净化', '数量': 5},\n",
       " {'_id': '游戏', '数量': 4},\n",
       " {'_id': '图书', '数量': 4},\n",
       " {'_id': '冰洗卫浴', '数量': 3},\n",
       " {'_id': '体育', '数量': 3},\n",
       " {'_id': '大家电', '数量': 3},\n",
       " {'_id': '安防', '数量': 3},\n",
       " {'_id': '电脑', '数量': 2},\n",
       " {'_id': '旅游', '数量': 2},\n",
       " {'_id': '手环', '数量': 2},\n",
       " {'_id': '电视', '数量': 1},\n",
       " {'_id': '情趣用品', '数量': 1},\n",
       " {'_id': '手机', '数量': 1},\n",
       " {'_id': '音乐', '数量': 1}]"
      ]
     },
     "execution_count": 29,
     "metadata": {},
     "output_type": "execute_result"
    }
   ],
   "source": [
    "list(f_proj.aggregate([{'$group': {\"_id\": \"$所属类别\", \"数量\": {'$sum':1}}}, {'$sort': {\"数量\": -1}}]))"
   ]
  },
  {
   "cell_type": "markdown",
   "metadata": {},
   "source": [
    "- "
   ]
  },
  {
   "cell_type": "markdown",
   "metadata": {},
   "source": [
    "- 各众筹产品在首页各位置的呈现时间"
   ]
  },
  {
   "cell_type": "code",
   "execution_count": 30,
   "metadata": {},
   "outputs": [
    {
     "data": {
      "text/plain": [
       "1214"
      ]
     },
     "execution_count": 30,
     "metadata": {},
     "output_type": "execute_result"
    }
   ],
   "source": [
    "frontPage.count_documents({})"
   ]
  },
  {
   "cell_type": "code",
   "execution_count": 34,
   "metadata": {},
   "outputs": [],
   "source": [
    "s_proj_ids = [p['_id'] for p in s_proj.find({}, projection={\"_id\":1})]"
   ]
  },
  {
   "cell_type": "code",
   "execution_count": 36,
   "metadata": {},
   "outputs": [
    {
     "data": {
      "text/plain": [
       "2908"
      ]
     },
     "execution_count": 36,
     "metadata": {},
     "output_type": "execute_result"
    }
   ],
   "source": [
    "len(set(s_proj_ids))"
   ]
  },
  {
   "cell_type": "code",
   "execution_count": 38,
   "metadata": {},
   "outputs": [
    {
     "data": {
      "text/plain": [
       "{'_id': ObjectId('5d8b8f03435ed05c18de541e'),\n",
       " '监测时间': datetime.datetime(2019, 9, 26, 0, 0, 3, 881000),\n",
       " '轮播': {'left': ['120491', '119414', '120481', '120835', '120936'],\n",
       "  'r-t': ['120059', '120736', '121023', '119023', '119995'],\n",
       "  'r-b-l': ['120239', '119012', '120341', '117482', '119110'],\n",
       "  'r-b-r': ['120087', '120454', '119240', '120823', '119988']},\n",
       " '热门推荐': ['120369', '120668', '119500', '120093'],\n",
       " '最新上架': ['121351',\n",
       "  '121222',\n",
       "  '121176',\n",
       "  '121030',\n",
       "  '120984',\n",
       "  '120818',\n",
       "  '120770',\n",
       "  '121282'],\n",
       " '即将结束': ['118802',\n",
       "  '119339',\n",
       "  '120444',\n",
       "  '119472',\n",
       "  '118415',\n",
       "  '119878',\n",
       "  '119211',\n",
       "  '119015',\n",
       "  '119508',\n",
       "  '119977',\n",
       "  '119344',\n",
       "  '119973',\n",
       "  '119857',\n",
       "  '120078',\n",
       "  '118938'],\n",
       " 'demostr_proj': {'新奇酷玩': {'左上大图': ['120059', '120175', '119552'],\n",
       "   '其它图': ['120007',\n",
       "    '118161',\n",
       "    '121322',\n",
       "    '120087',\n",
       "    '113406',\n",
       "    '120827',\n",
       "    '121060',\n",
       "    '119481',\n",
       "    '120932',\n",
       "    '119029',\n",
       "    '120178',\n",
       "    '119884',\n",
       "    '120212',\n",
       "    '120975',\n",
       "    '118894',\n",
       "    '119885',\n",
       "    '118868',\n",
       "    '121151']},\n",
       "  '健康出行': {'左上大图': ['118023', '118676'],\n",
       "   '其它图': ['120080',\n",
       "    '121041',\n",
       "    '118772',\n",
       "    '119414',\n",
       "    '120368',\n",
       "    '116332',\n",
       "    '120414',\n",
       "    '120734',\n",
       "    '118961',\n",
       "    '119454',\n",
       "    '120043',\n",
       "    '120364']},\n",
       "  '生活美学': {'左上大图': ['120479', '120888', '117757'],\n",
       "   '其它图': ['119265',\n",
       "    '120323',\n",
       "    '118347',\n",
       "    '120390',\n",
       "    '120454',\n",
       "    '118656',\n",
       "    '121205',\n",
       "    '120791',\n",
       "    '120386',\n",
       "    '120681',\n",
       "    '117924',\n",
       "    '119527',\n",
       "    '119961',\n",
       "    '120319',\n",
       "    '119874',\n",
       "    '120245',\n",
       "    '119446',\n",
       "    '120173']},\n",
       "  '美食市集': {'左上大图': ['120741', '120658'],\n",
       "   '其它图': ['119341',\n",
       "    '120823',\n",
       "    '120830',\n",
       "    '120310',\n",
       "    '120184',\n",
       "    '119876',\n",
       "    '120732',\n",
       "    '118908',\n",
       "    '118540',\n",
       "    '119008',\n",
       "    '119392',\n",
       "    '118927']},\n",
       "  '文化艺术': {'左上大图': ['120191', '119541'],\n",
       "   '其它图': ['119241',\n",
       "    '120560',\n",
       "    '120962',\n",
       "    '120893',\n",
       "    '120309',\n",
       "    '120210',\n",
       "    '119442',\n",
       "    '121072',\n",
       "    '119240',\n",
       "    '120759',\n",
       "    '120429',\n",
       "    '120341']},\n",
       "  '惠民扶贫': {'左上大图': ['120248', '120588', '120120'],\n",
       "   '其它图': ['120611',\n",
       "    '120017',\n",
       "    '119147',\n",
       "    '120402',\n",
       "    '119597',\n",
       "    '117399',\n",
       "    '120318',\n",
       "    '120568',\n",
       "    '120274',\n",
       "    '120311',\n",
       "    '119334',\n",
       "    '120203',\n",
       "    '119498',\n",
       "    '118671',\n",
       "    '120289',\n",
       "    '119023',\n",
       "    '119490',\n",
       "    '118609']}},\n",
       " '即将上架': ['120998',\n",
       "  '121208',\n",
       "  '120957',\n",
       "  '121124',\n",
       "  '120000',\n",
       "  '120804',\n",
       "  '120976',\n",
       "  '121167',\n",
       "  '120665',\n",
       "  '121078',\n",
       "  '121140',\n",
       "  '121155',\n",
       "  '120938',\n",
       "  '120828',\n",
       "  '118764',\n",
       "  '120443',\n",
       "  '120535',\n",
       "  '119129',\n",
       "  '121272',\n",
       "  '121032',\n",
       "  '121356',\n",
       "  '120745',\n",
       "  '121160',\n",
       "  '117322',\n",
       "  '120284',\n",
       "  '121016',\n",
       "  '121177',\n",
       "  '121362',\n",
       "  '121271',\n",
       "  '120810']}"
      ]
     },
     "execution_count": 38,
     "metadata": {},
     "output_type": "execute_result"
    }
   ],
   "source": [
    "frontPage.find_one({'监测时间': {'$gt': datetime.datetime.now() - datetime.timedelta(days=90)}})"
   ]
  },
  {
   "cell_type": "code",
   "execution_count": 12,
   "metadata": {},
   "outputs": [
    {
     "name": "stdout",
     "output_type": "stream",
     "text": [
      "Help on class timedelta in module datetime:\n",
      "\n",
      "class timedelta(builtins.object)\n",
      " |  Difference between two datetime values.\n",
      " |  \n",
      " |  Methods defined here:\n",
      " |  \n",
      " |  __abs__(self, /)\n",
      " |      abs(self)\n",
      " |  \n",
      " |  __add__(self, value, /)\n",
      " |      Return self+value.\n",
      " |  \n",
      " |  __bool__(self, /)\n",
      " |      self != 0\n",
      " |  \n",
      " |  __divmod__(self, value, /)\n",
      " |      Return divmod(self, value).\n",
      " |  \n",
      " |  __eq__(self, value, /)\n",
      " |      Return self==value.\n",
      " |  \n",
      " |  __floordiv__(self, value, /)\n",
      " |      Return self//value.\n",
      " |  \n",
      " |  __ge__(self, value, /)\n",
      " |      Return self>=value.\n",
      " |  \n",
      " |  __getattribute__(self, name, /)\n",
      " |      Return getattr(self, name).\n",
      " |  \n",
      " |  __gt__(self, value, /)\n",
      " |      Return self>value.\n",
      " |  \n",
      " |  __hash__(self, /)\n",
      " |      Return hash(self).\n",
      " |  \n",
      " |  __le__(self, value, /)\n",
      " |      Return self<=value.\n",
      " |  \n",
      " |  __lt__(self, value, /)\n",
      " |      Return self<value.\n",
      " |  \n",
      " |  __mod__(self, value, /)\n",
      " |      Return self%value.\n",
      " |  \n",
      " |  __mul__(self, value, /)\n",
      " |      Return self*value.\n",
      " |  \n",
      " |  __ne__(self, value, /)\n",
      " |      Return self!=value.\n",
      " |  \n",
      " |  __neg__(self, /)\n",
      " |      -self\n",
      " |  \n",
      " |  __pos__(self, /)\n",
      " |      +self\n",
      " |  \n",
      " |  __radd__(self, value, /)\n",
      " |      Return value+self.\n",
      " |  \n",
      " |  __rdivmod__(self, value, /)\n",
      " |      Return divmod(value, self).\n",
      " |  \n",
      " |  __reduce__(...)\n",
      " |      __reduce__() -> (cls, state)\n",
      " |  \n",
      " |  __repr__(self, /)\n",
      " |      Return repr(self).\n",
      " |  \n",
      " |  __rfloordiv__(self, value, /)\n",
      " |      Return value//self.\n",
      " |  \n",
      " |  __rmod__(self, value, /)\n",
      " |      Return value%self.\n",
      " |  \n",
      " |  __rmul__(self, value, /)\n",
      " |      Return value*self.\n",
      " |  \n",
      " |  __rsub__(self, value, /)\n",
      " |      Return value-self.\n",
      " |  \n",
      " |  __rtruediv__(self, value, /)\n",
      " |      Return value/self.\n",
      " |  \n",
      " |  __str__(self, /)\n",
      " |      Return str(self).\n",
      " |  \n",
      " |  __sub__(self, value, /)\n",
      " |      Return self-value.\n",
      " |  \n",
      " |  __truediv__(self, value, /)\n",
      " |      Return self/value.\n",
      " |  \n",
      " |  total_seconds(...)\n",
      " |      Total seconds in the duration.\n",
      " |  \n",
      " |  ----------------------------------------------------------------------\n",
      " |  Static methods defined here:\n",
      " |  \n",
      " |  __new__(*args, **kwargs) from builtins.type\n",
      " |      Create and return a new object.  See help(type) for accurate signature.\n",
      " |  \n",
      " |  ----------------------------------------------------------------------\n",
      " |  Data descriptors defined here:\n",
      " |  \n",
      " |  days\n",
      " |      Number of days.\n",
      " |  \n",
      " |  microseconds\n",
      " |      Number of microseconds (>= 0 and less than 1 second).\n",
      " |  \n",
      " |  seconds\n",
      " |      Number of seconds (>= 0 and less than 1 day).\n",
      " |  \n",
      " |  ----------------------------------------------------------------------\n",
      " |  Data and other attributes defined here:\n",
      " |  \n",
      " |  max = datetime.timedelta(days=999999999, seconds=86399, microseconds=9...\n",
      " |  \n",
      " |  min = datetime.timedelta(days=-999999999)\n",
      " |  \n",
      " |  resolution = datetime.timedelta(microseconds=1)\n",
      "\n"
     ]
    }
   ],
   "source": [
    "help(datetime.timedelta)"
   ]
  }
 ],
 "metadata": {
  "kernelspec": {
   "display_name": "python37",
   "language": "python",
   "name": "python37"
  },
  "language_info": {
   "codemirror_mode": {
    "name": "ipython",
    "version": 3
   },
   "file_extension": ".py",
   "mimetype": "text/x-python",
   "name": "python",
   "nbconvert_exporter": "python",
   "pygments_lexer": "ipython3",
   "version": "3.7.1"
  }
 },
 "nbformat": 4,
 "nbformat_minor": 4
}
